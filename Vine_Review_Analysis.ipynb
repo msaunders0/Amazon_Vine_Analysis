{
  "nbformat": 4,
  "nbformat_minor": 0,
  "metadata": {
    "colab": {
      "name": "Vine_Review_Analysis.ipynb",
      "provenance": []
    },
    "kernelspec": {
      "name": "python3",
      "display_name": "Python 3"
    },
    "language_info": {
      "name": "python"
    }
  },
  "cells": [
    {
      "cell_type": "code",
      "execution_count": 1,
      "metadata": {
        "colab": {
          "base_uri": "https://localhost:8080/"
        },
        "id": "LpQiZL5BU7Lt",
        "outputId": "884bbd27-7190-4ab9-f72a-e290f3604adb"
      },
      "outputs": [
        {
          "output_type": "stream",
          "name": "stdout",
          "text": [
            "Get:1 https://cloud.r-project.org/bin/linux/ubuntu bionic-cran40/ InRelease [3,626 B]\n",
            "Get:2 http://security.ubuntu.com/ubuntu bionic-security InRelease [88.7 kB]\n",
            "Hit:3 http://archive.ubuntu.com/ubuntu bionic InRelease\n",
            "Get:4 http://ppa.launchpad.net/c2d4u.team/c2d4u4.0+/ubuntu bionic InRelease [15.9 kB]\n",
            "Ign:5 https://developer.download.nvidia.com/compute/cuda/repos/ubuntu1804/x86_64  InRelease\n",
            "Get:6 http://archive.ubuntu.com/ubuntu bionic-updates InRelease [88.7 kB]\n",
            "Ign:7 https://developer.download.nvidia.com/compute/machine-learning/repos/ubuntu1804/x86_64  InRelease\n",
            "Hit:8 https://developer.download.nvidia.com/compute/cuda/repos/ubuntu1804/x86_64  Release\n",
            "Hit:9 https://developer.download.nvidia.com/compute/machine-learning/repos/ubuntu1804/x86_64  Release\n",
            "Hit:10 http://ppa.launchpad.net/cran/libgit2/ubuntu bionic InRelease\n",
            "Get:11 http://archive.ubuntu.com/ubuntu bionic-backports InRelease [74.6 kB]\n",
            "Hit:12 http://ppa.launchpad.net/deadsnakes/ppa/ubuntu bionic InRelease\n",
            "Hit:13 http://ppa.launchpad.net/graphics-drivers/ppa/ubuntu bionic InRelease\n",
            "Get:14 http://ppa.launchpad.net/c2d4u.team/c2d4u4.0+/ubuntu bionic/main Sources [1,950 kB]\n",
            "Get:16 http://ppa.launchpad.net/c2d4u.team/c2d4u4.0+/ubuntu bionic/main amd64 Packages [999 kB]\n",
            "Get:18 http://security.ubuntu.com/ubuntu bionic-security/main amd64 Packages [2,728 kB]\n",
            "Get:19 http://security.ubuntu.com/ubuntu bionic-security/universe amd64 Packages [1,496 kB]\n",
            "Get:20 http://security.ubuntu.com/ubuntu bionic-security/restricted amd64 Packages [907 kB]\n",
            "Get:21 http://archive.ubuntu.com/ubuntu bionic-updates/main amd64 Packages [3,165 kB]\n",
            "Get:22 http://archive.ubuntu.com/ubuntu bionic-updates/universe amd64 Packages [2,272 kB]\n",
            "Get:23 http://archive.ubuntu.com/ubuntu bionic-updates/restricted amd64 Packages [941 kB]\n",
            "Fetched 14.7 MB in 6s (2,285 kB/s)\n",
            "Reading package lists... Done\n"
          ]
        }
      ],
      "source": [
        "import os\n",
        "# Find the latest version of spark 3.0 from http://www.apache.org/dist/spark/ and enter as the spark version\n",
        "# For example:\n",
        "# spark_version = 'spark-3.0.3'\n",
        "spark_version = 'spark-3.0.3'\n",
        "os.environ['SPARK_VERSION']=spark_version\n",
        "\n",
        "# Install Spark and Java\n",
        "!apt-get update\n",
        "!apt-get install openjdk-11-jdk-headless -qq > /dev/null\n",
        "!wget -q http://www.apache.org/dist/spark/$SPARK_VERSION/$SPARK_VERSION-bin-hadoop2.7.tgz\n",
        "!tar xf $SPARK_VERSION-bin-hadoop2.7.tgz\n",
        "!pip install -q findspark\n",
        "\n",
        "# Set Environment Variables\n",
        "import os\n",
        "os.environ[\"JAVA_HOME\"] = \"/usr/lib/jvm/java-11-openjdk-amd64\"\n",
        "os.environ[\"SPARK_HOME\"] = f\"/content/{spark_version}-bin-hadoop2.7\"\n",
        "\n",
        "# Start a SparkSession\n",
        "import findspark\n",
        "findspark.init()"
      ]
    },
    {
      "cell_type": "code",
      "source": [
        "from pyspark.sql import SparkSession\n",
        "spark = SparkSession.builder.appName(\"AmazonVine-Challenge\").config(\"spark.driver.extraClassPath\",\"/content/postgresql-42.2.16.jar\").getOrCreate()"
      ],
      "metadata": {
        "id": "nhc94gkAVNma"
      },
      "execution_count": 3,
      "outputs": []
    },
    {
      "cell_type": "code",
      "source": [
        "from pyspark import SparkFiles\n",
        "url = \"https://s3.amazonaws.com/amazon-reviews-pds/tsv/amazon_reviews_us_Home_Entertainment_v1_00.tsv.gz\"\n",
        "spark.sparkContext.addFile(url)\n",
        "df = spark.read.option(\"encoding\", \"UTF-8\").csv(SparkFiles.get(\"\"), sep=\"\\t\", header=True, inferSchema=True)\n",
        "df.show()"
      ],
      "metadata": {
        "colab": {
          "base_uri": "https://localhost:8080/"
        },
        "id": "Gmije4YOVcVi",
        "outputId": "9e807349-8ca3-470e-b3c2-c299eed08b25"
      },
      "execution_count": 4,
      "outputs": [
        {
          "output_type": "stream",
          "name": "stdout",
          "text": [
            "+-----------+-----------+--------------+----------+--------------+--------------------+------------------+-----------+-------------+-----------+----+-----------------+--------------------+--------------------+-----------+\n",
            "|marketplace|customer_id|     review_id|product_id|product_parent|       product_title|  product_category|star_rating|helpful_votes|total_votes|vine|verified_purchase|     review_headline|         review_body|review_date|\n",
            "+-----------+-----------+--------------+----------+--------------+--------------------+------------------+-----------+-------------+-----------+----+-----------------+--------------------+--------------------+-----------+\n",
            "|         US|     179886| RY01SAV7HZ8QO|B00NTI0CQ2|     667358431|Aketek 1080P LED ...|Home Entertainment|          4|            0|          0|   N|                Y|good enough for m...|not the best pict...| 2015-08-31|\n",
            "|         US|   37293769|R1XX8SDGJ4MZ4L|B00BUCLVZU|     621695622|TiVo Mini with IR...|Home Entertainment|          5|            0|          0|   N|                N|Tell the Cable Co...|Not only do my Ti...| 2015-08-31|\n",
            "|         US|    8332121|R149Q3B5L33NN5|B00RBX9D5W|     143071132|Apple TV MD199LL/...|Home Entertainment|          5|            0|          0|   N|                Y|    Works perfectly!|Works perfectly! ...| 2015-08-31|\n",
            "|         US|   47054962|R2ZVD69Z6KPJ4O|B00UJ3IULO|     567816707|New Roku 3 6.5 Fo...|Home Entertainment|          1|            0|          2|   N|                Y|It doesn't work. ...|It doesn't work. ...| 2015-08-31|\n",
            "|         US|   23413911|R1DIKG2G33ZLNP|B0037UCTXG|     909557698|Generic DVI-I Dua...|Home Entertainment|          4|            0|          0|   N|                Y|         As pictured|I received the it...| 2015-08-31|\n",
            "|         US|    4417771|R3L6FGKAW0EYFI|B004N866SU|     414565179|Samsung 3D LED HD...|Home Entertainment|          1|            1|          1|   N|                N|Only lasts 3-4 ye...|I bought this TV ...| 2015-08-31|\n",
            "|         US|   47900707| RAO0QZH5VC6VI|B00JE6AOJS|     798450889|Jiake Wireless Bl...|Home Entertainment|          1|            0|          0|   N|                Y|            One Star|    Waste of $$$$$$$| 2015-08-31|\n",
            "|         US|   34112894|R25IK0UAHWNB22|B00COL0B7A|     777554234|3pcs/lot 3in1 3ft...|Home Entertainment|          3|            0|          0|   N|                Y|         Three Stars|Nice but all thre...| 2015-08-31|\n",
            "|         US|   20691979|R2A9IHKZMTMAL1|B00QHLSKOE|     885228855|Matricom G-Box Q²...|Home Entertainment|          5|            1|          2|   N|                Y|Yes...exactly wha...|Oh, yeah...doesn'...| 2015-08-31|\n",
            "|         US|   25983343| R5XVKTHL6SITI|B00UNL2MUW|     164482798|VIZIO S2920W-C0B ...|Home Entertainment|          5|            0|          0|   N|                Y|Fantastic sound. ...|Fantastic sound. ...| 2015-08-31|\n",
            "|         US|   35816068|R2QZZOSTDDY1IE|B00RIC9JB4|     184834831|Hitachi 49\" Class...|Home Entertainment|          3|            3|          6|   N|                Y|               risky|Great tv but Tv d...| 2015-08-31|\n",
            "|         US|   10628020|R38CUDCFPSNYTD|B00HPMCO6O|     444378461|Sony BDPS5200 3D ...|Home Entertainment|          5|            0|          0|   N|                Y|          Five Stars|EXCELLENT SERVICE...| 2015-08-31|\n",
            "|         US|    9059625| RM6ZR6NH052YH|B004QGXWS6|     770226547|Sylvania 7-Inch T...|Home Entertainment|          3|            1|          2|   N|                Y|They worked great...|They worked great...| 2015-08-31|\n",
            "|         US|    2681147| RUQK5N4WH8UN8|B00FO12XY6|     448806082|Roku HD Streaming...|Home Entertainment|          5|            0|          0|   N|                Y|          Five Stars|Smooth and worked...| 2015-08-31|\n",
            "|         US|   33449922|R21LWSBQWWJYZ3|B00BD7UVO4|     374427271|LG Electronics BP...|Home Entertainment|          5|            0|          0|   N|                Y|          Five Stars|     Works very well| 2015-08-31|\n",
            "|         US|   43069144| R8W5S53RQ2DF7|B00TRQPEYK|     614207013|LG Electronics LF...|Home Entertainment|          5|            0|          0|   N|                Y|               LG TV|The TV arrived qu...| 2015-08-31|\n",
            "|         US|   46780686|R3ENME3JQBWXZS|B005STXQG8|     689442799|SquareTrade TV Pr...|Home Entertainment|          5|            0|          1|   N|                Y|          Five Stars|well worth the mo...| 2015-08-31|\n",
            "|         US|   49037595|R3URL5K7DHHYK7|B00BEL11RA|     910670994|Cambridge - Azur ...|Home Entertainment|          5|            1|          1|   N|                Y|            Love it.|Great Blu-ray pla...| 2015-08-31|\n",
            "|         US|   27868511|R22YISZKS35YZX|B00QHLSKOE|     885228855|Matricom G-Box Q²...|Home Entertainment|          5|            2|          3|   N|                Y|If your on the fe...|Great media cente...| 2015-08-31|\n",
            "|         US|    3004043|R3IIOLWHWC297U|B00MWCJ8VQ|     946374680|Roku 3500XB Strea...|Home Entertainment|          5|            0|          0|   N|                Y|          Five Stars|       great product| 2015-08-31|\n",
            "+-----------+-----------+--------------+----------+--------------+--------------------+------------------+-----------+-------------+-----------+----+-----------------+--------------------+--------------------+-----------+\n",
            "only showing top 20 rows\n",
            "\n"
          ]
        }
      ]
    },
    {
      "cell_type": "code",
      "source": [
        "# Filter rows where total_votes is equal to or greater than 20\n",
        "vine_df = df.select([\"review_id\",\"star_rating\",\"helpful_votes\",\"total_votes\",\"vine\",\"verified_purchase\"])\n",
        "votes20 = df.filter(\"total_votes >= 20\")"
      ],
      "metadata": {
        "id": "EU69VhTDVosl"
      },
      "execution_count": 5,
      "outputs": []
    },
    {
      "cell_type": "code",
      "source": [
        "# Filter rows where number of helpful_votes divided by total_votes is equal to or greater than 50%\n",
        "helpful_df = votes20.filter(votes20[\"helpful_votes\"]/votes20[\"total_votes\"] >= 0.5)\n",
        "helpful_df.show()"
      ],
      "metadata": {
        "colab": {
          "base_uri": "https://localhost:8080/"
        },
        "id": "DqdxJX6GWkir",
        "outputId": "e2b86dd9-7a4a-4052-c02c-4ef4fac77f5d"
      },
      "execution_count": 6,
      "outputs": [
        {
          "output_type": "stream",
          "name": "stdout",
          "text": [
            "+-----------+-----------+--------------+----------+--------------+--------------------+------------------+-----------+-------------+-----------+----+-----------------+--------------------+--------------------+-----------+\n",
            "|marketplace|customer_id|     review_id|product_id|product_parent|       product_title|  product_category|star_rating|helpful_votes|total_votes|vine|verified_purchase|     review_headline|         review_body|review_date|\n",
            "+-----------+-----------+--------------+----------+--------------+--------------------+------------------+-----------+-------------+-----------+----+-----------------+--------------------+--------------------+-----------+\n",
            "|         US|   24284435|R1VCSDR38XTALJ|B00WA42GTC|     464704031|Samsung Blu-ray P...|Home Entertainment|          1|           33|         40|   N|                N|Wouldn't recommen...|This Samsung BD-J...| 2015-08-31|\n",
            "|         US|    5445862|R1KMC6B2JRCZ3D|B00SMBF3NS|     742282603|VIZIO E24-C1 E Se...|Home Entertainment|          3|           42|         47|   N|                N|For those who wil...|As a stand alone ...| 2015-08-31|\n",
            "|         US|   26295494| RBZE8H6SHVYWW|B00Z0IBCD6|     617888413|Samsung UN40JU640...|Home Entertainment|          3|           77|        110|   N|                N|The UN40J6400   i...|SAMSUNG SERIES 6 ...| 2015-08-31|\n",
            "|         US|   12703303|R3UN4H3BW9YTQA|B00VVOCSOU|     933789462|TCL 32D2700 720p ...|Home Entertainment|          5|          358|        388|   N|                Y|GREAT TV on a bud...|I was lucky enoug...| 2015-08-31|\n",
            "|         US|   51348681| R2YKRQ8R3B2Q3|B00TKPAWFO|     105403000|Samsung HW-J450 2...|Home Entertainment|          5|           30|         35|   N|                N|If it was possibl...|I purchased this ...| 2015-08-31|\n",
            "|         US|   20245477|R1K00VBT0SMD4Z|B00QXS8L6I|      27709442|Cube Projector Pa...|Home Entertainment|          1|           50|         60|   N|                Y|Sad it didn't wor...|a the actual pict...| 2015-08-31|\n",
            "|         US|   47878111|R2I9AO0VEBYJES|B0122O3940|     500546686|JmGO Smart Home T...|Home Entertainment|          4|           47|         57|   N|                Y|JmGo G1 is Awesom...|Excellent picture...| 2015-08-30|\n",
            "|         US|   52172832|R3Q7YJX1I5PDMU|B00LH1NA62|     557213720|Magnavox Blu-Ray ...|Home Entertainment|          3|           22|         22|   N|                Y|Functional, but y...|This player works...| 2015-08-30|\n",
            "|         US|   13990589| RJQQO26UPW1PI|B00VVOCQHE|     933789462|TCL 32D2700 720p ...|Home Entertainment|          5|           76|         96|   N|                Y|Great image for t...|While there are s...| 2015-08-30|\n",
            "|         US|   51955091|R2QJI05ZY7DNSR|B00Y7XTF2A|     170440763|LG Electronics LE...|Home Entertainment|          4|           59|         73|   N|                N|           LG UF6800|I purchased a Sam...| 2015-08-30|\n",
            "|         US|   53041702|R2MBLFKV5JFTKE|B00UJ3IULO|     567816707|New Roku 3 6.5 Fo...|Home Entertainment|          1|           80|         89|   N|                N|Nightmare Tech Su...|Nightmare from he...| 2015-08-30|\n",
            "|         US|   20725301|R1YYR1SP2TS30L|B00UB9UJFQ|     548886188|TCL 32S3800 32-In...|Home Entertainment|          1|           55|         70|   N|                Y|Still waiting for...|Product defective...| 2015-08-30|\n",
            "|         US|   42601054|R2DYKW0X2B93QG|B00SMBG8QY|     751255029|VIZIO SB3821-C6 3...|Home Entertainment|          2|           50|         63|   N|                Y|Worth the money, ...|This is a cheap s...| 2015-08-30|\n",
            "|         US|   30687736|R14QWM0LJO6313|B00VDWJZ7I|      14931582|Intel Core i3 i3-...|Home Entertainment|          5|           24|         28|   N|                Y|Blew me away with...|This cpu was purc...| 2015-08-30|\n",
            "|         US|   13260189|R19H4AKN005KL8|B00SK6XXUK|     887568334|Streamsmart Smart...|Home Entertainment|          5|           19|         28|   N|                Y|       Great value!!|It is not THE bes...| 2015-08-30|\n",
            "|         US|   10930608|R27MJ6EZADWWPX|B00ZOGUF6E|     234534340|CiBest LED GM60 M...|Home Entertainment|          5|           34|         37|   N|                Y|          Impressed!|I just got it, bu...| 2015-08-30|\n",
            "|         US|   29648162| RXZ3Q8ZGMVQ40|B00SMBFPDG|     680331698|VIZIO 60\" Class (...|Home Entertainment|          1|           19|         30|   N|                Y|New tv worked les...|Received TV on da...| 2015-08-29|\n",
            "|         US|   12508067|R2GFDC3KTYASPJ|B00U9U8RZQ|     851149807|Samsung J5200 Ser...|Home Entertainment|          5|           94|        118|   N|                Y|Excellent TV - Po...|Amazing picture q...| 2015-08-29|\n",
            "|         US|    2336780|R288AJX5OK9K4Q|B00TRQPVKM|     516630089|LG Electronics LF...|Home Entertainment|          1|           46|         63|   N|                Y|   donot buy this tv|What is this man ...| 2015-08-29|\n",
            "|         US|   16010108|R25PC9R5T29WSK|B00SMBFQ7G|     579240906|VIZIO E-Series E5...|Home Entertainment|          5|           21|         23|   N|                Y|Completely satisfied|Packaged extremel...| 2015-08-29|\n",
            "+-----------+-----------+--------------+----------+--------------+--------------------+------------------+-----------+-------------+-----------+----+-----------------+--------------------+--------------------+-----------+\n",
            "only showing top 20 rows\n",
            "\n"
          ]
        }
      ]
    },
    {
      "cell_type": "code",
      "source": [
        "# Filter rows where a review was written as part of the Vine paid program\n",
        "vine_paid = helpful_df.filter(helpful_df[\"vine\"] == \"Y\")\n",
        "vine_paid.show()"
      ],
      "metadata": {
        "colab": {
          "base_uri": "https://localhost:8080/"
        },
        "id": "DWqzNBftXL0C",
        "outputId": "9390c177-a7ae-4028-a17b-64bf473fe297"
      },
      "execution_count": 7,
      "outputs": [
        {
          "output_type": "stream",
          "name": "stdout",
          "text": [
            "+-----------+-----------+--------------+----------+--------------+--------------------+------------------+-----------+-------------+-----------+----+-----------------+--------------------+--------------------+-----------+\n",
            "|marketplace|customer_id|     review_id|product_id|product_parent|       product_title|  product_category|star_rating|helpful_votes|total_votes|vine|verified_purchase|     review_headline|         review_body|review_date|\n",
            "+-----------+-----------+--------------+----------+--------------+--------------------+------------------+-----------+-------------+-----------+----+-----------------+--------------------+--------------------+-----------+\n",
            "|         US|   51288086|R3LLICBKRHLRJC|B00USEZ7W4|     202667718|Seiki SE32HYT  LE...|Home Entertainment|          4|           17|         22|   Y|                N|Great picture, a ...|Very nice, sharp ...| 2015-08-27|\n",
            "|         US|   50853411| RUD135S06DEVE|B00ZIGRX4W|     471919351|Samsung JS7000, S...|Home Entertainment|          5|           41|         51|   Y|                N|Fantastic out-of-...|I've had this tel...| 2015-08-23|\n",
            "|         US|   52708408|R2WG8UL4SGDPDH|B00TYFCJ8S|     609914359|Sony BDPS3500 - B...|Home Entertainment|          4|           23|         25|   Y|                N|One of the best B...|The Sony BDPS3500...| 2015-08-21|\n",
            "|         US|   49234743|R158AOKOA28WS2|B00ZIGRX4W|     471919351|Samsung JS7000, S...|Home Entertainment|          4|           18|         28|   Y|                N|One Giant Step in...|I chose a 5 star ...| 2015-08-21|\n",
            "|         US|   51367435| RGWV3QLJQXU9X|B00U9U8RZQ|     851149807|Samsung J5200 Ser...|Home Entertainment|          5|          332|        380|   Y|                N|Excellent quality...|This TV is very l...| 2015-08-21|\n",
            "|         US|   51720265| RD0E1RZSSYGGN|B00ZIGRX4W|     471919351|Samsung JS7000, S...|Home Entertainment|          5|          261|        292|   Y|                N|Price, functional...|With the release ...| 2015-08-17|\n",
            "|         US|   43748492|R3LGCTQH5ZMGO0|B00TKOSUDQ|     793868244|Samsung BD-J5700 ...|Home Entertainment|          5|           61|         68|   Y|                N|BD-J5700 vs. BD-F...|This is more of a...| 2015-08-02|\n",
            "|         US|   17957446|R2H24YTRLARCZJ|B00TKOSUDQ|     793868244|Samsung BD-J5700 ...|Home Entertainment|          4|          277|        297|   Y|                N|Solid Blu-Ray, Go...|The Samsung BD-J5...| 2015-07-27|\n",
            "|         US|   52594065| RYYTC9JTG7WPW|B00U9U8RZQ|     851149807|Samsung J5200 Ser...|Home Entertainment|          5|          107|        134|   Y|                N|Samsung 32-inch s...|I got this TV for...| 2015-07-26|\n",
            "|         US|   53035876| RTB8H4YQYTLY3|B00TIAXRS0|     965387301|LG Electronics BP...|Home Entertainment|          4|           58|         62|   Y|                N|A Very Pleasant S...|I have to admit t...| 2015-07-22|\n",
            "|         US|   51871879| RMQYIMBVK7T8R|B00U9U8RZQ|     851149807|Samsung J5200 Ser...|Home Entertainment|          5|           29|         36|   Y|                N|Wonderful set for...|This television i...| 2015-07-16|\n",
            "|         US|   51014481| R9KIBRBGB1M6W|B00U9U8RZQ|     851149807|Samsung J5200 Ser...|Home Entertainment|          5|           26|         33|   Y|                N|         We love it!|YAY!  We have nev...| 2015-07-16|\n",
            "|         US|   37213020|R122J9QGFCZTR0|B00JT14LAQ|     313477489|Panasonic SC-HC27...|Home Entertainment|          5|          324|        342|   Y|                N|Great device in i...|[[VIDEOID:459c36f...| 2015-07-14|\n",
            "|         US|   20473938|R2QIEBCHDXA2CW|B00USEZBQG|      83494932|Seiki SE50FY 50-I...|Home Entertainment|          4|           55|         64|   Y|                N|  LOW BUDGET BARGAIN|This Seiki 50&#34...| 2015-07-13|\n",
            "|         US|   50727243|R1KG6E0W0Q5YCQ|B00U9U9002|     929833728|Samsung JS8500, S...|Home Entertainment|          5|           27|         32|   Y|                N|Outstanding Telev...|First things firs...| 2015-07-13|\n",
            "|         US|   11169499|R3B6CGFNVWRWJ0|B00USEZBQG|      83494932|Seiki SE50FY 50-I...|Home Entertainment|          5|           15|         23|   Y|                N|Best Of The Non S...|The Seiki 50 inch...| 2015-07-11|\n",
            "|         US|   21155796| RR66J5S5D8ZUP|B00USEZBQG|      83494932|Seiki SE50FY 50-I...|Home Entertainment|          5|           25|         33|   Y|                N|Great picture and...|For the price, th...| 2015-07-09|\n",
            "|         US|   49129501|R3UC7TCOGT73CJ|B00TKOSUDQ|     793868244|Samsung BD-J5700 ...|Home Entertainment|          3|           33|         41|   Y|                N|Apps Are Disappoi...|The Blu-ray playe...| 2015-07-04|\n",
            "|         US|   33107350| R32UKGZUYVA2S|B00U9U9002|     929833728|Samsung JS8500, S...|Home Entertainment|          2|           64|         77|   Y|                N|Samsung makes nic...|If this review co...| 2015-07-04|\n",
            "|         US|   52846213|R1G2OXP36OPF40|B00TIAXRS0|     965387301|LG Electronics BP...|Home Entertainment|          5|           20|         22|   Y|                N|2015 Model - Smoo...|~  Please note th...| 2015-06-23|\n",
            "+-----------+-----------+--------------+----------+--------------+--------------------+------------------+-----------+-------------+-----------+----+-----------------+--------------------+--------------------+-----------+\n",
            "only showing top 20 rows\n",
            "\n"
          ]
        }
      ]
    },
    {
      "cell_type": "code",
      "source": [
        "# Filter rows where a review was written that was not part of the Vine paid program\n",
        "vine_not_paid = helpful_df.filter(helpful_df[\"vine\"] == \"N\")\n",
        "vine_not_paid.show()"
      ],
      "metadata": {
        "colab": {
          "base_uri": "https://localhost:8080/"
        },
        "id": "zmC6bMxeXjGs",
        "outputId": "1eecda26-8f4e-4cda-a23d-0b473fe0dc20"
      },
      "execution_count": 8,
      "outputs": [
        {
          "output_type": "stream",
          "name": "stdout",
          "text": [
            "+-----------+-----------+--------------+----------+--------------+--------------------+------------------+-----------+-------------+-----------+----+-----------------+--------------------+--------------------+-----------+\n",
            "|marketplace|customer_id|     review_id|product_id|product_parent|       product_title|  product_category|star_rating|helpful_votes|total_votes|vine|verified_purchase|     review_headline|         review_body|review_date|\n",
            "+-----------+-----------+--------------+----------+--------------+--------------------+------------------+-----------+-------------+-----------+----+-----------------+--------------------+--------------------+-----------+\n",
            "|         US|   24284435|R1VCSDR38XTALJ|B00WA42GTC|     464704031|Samsung Blu-ray P...|Home Entertainment|          1|           33|         40|   N|                N|Wouldn't recommen...|This Samsung BD-J...| 2015-08-31|\n",
            "|         US|    5445862|R1KMC6B2JRCZ3D|B00SMBF3NS|     742282603|VIZIO E24-C1 E Se...|Home Entertainment|          3|           42|         47|   N|                N|For those who wil...|As a stand alone ...| 2015-08-31|\n",
            "|         US|   26295494| RBZE8H6SHVYWW|B00Z0IBCD6|     617888413|Samsung UN40JU640...|Home Entertainment|          3|           77|        110|   N|                N|The UN40J6400   i...|SAMSUNG SERIES 6 ...| 2015-08-31|\n",
            "|         US|   12703303|R3UN4H3BW9YTQA|B00VVOCSOU|     933789462|TCL 32D2700 720p ...|Home Entertainment|          5|          358|        388|   N|                Y|GREAT TV on a bud...|I was lucky enoug...| 2015-08-31|\n",
            "|         US|   51348681| R2YKRQ8R3B2Q3|B00TKPAWFO|     105403000|Samsung HW-J450 2...|Home Entertainment|          5|           30|         35|   N|                N|If it was possibl...|I purchased this ...| 2015-08-31|\n",
            "|         US|   20245477|R1K00VBT0SMD4Z|B00QXS8L6I|      27709442|Cube Projector Pa...|Home Entertainment|          1|           50|         60|   N|                Y|Sad it didn't wor...|a the actual pict...| 2015-08-31|\n",
            "|         US|   47878111|R2I9AO0VEBYJES|B0122O3940|     500546686|JmGO Smart Home T...|Home Entertainment|          4|           47|         57|   N|                Y|JmGo G1 is Awesom...|Excellent picture...| 2015-08-30|\n",
            "|         US|   52172832|R3Q7YJX1I5PDMU|B00LH1NA62|     557213720|Magnavox Blu-Ray ...|Home Entertainment|          3|           22|         22|   N|                Y|Functional, but y...|This player works...| 2015-08-30|\n",
            "|         US|   13990589| RJQQO26UPW1PI|B00VVOCQHE|     933789462|TCL 32D2700 720p ...|Home Entertainment|          5|           76|         96|   N|                Y|Great image for t...|While there are s...| 2015-08-30|\n",
            "|         US|   51955091|R2QJI05ZY7DNSR|B00Y7XTF2A|     170440763|LG Electronics LE...|Home Entertainment|          4|           59|         73|   N|                N|           LG UF6800|I purchased a Sam...| 2015-08-30|\n",
            "|         US|   53041702|R2MBLFKV5JFTKE|B00UJ3IULO|     567816707|New Roku 3 6.5 Fo...|Home Entertainment|          1|           80|         89|   N|                N|Nightmare Tech Su...|Nightmare from he...| 2015-08-30|\n",
            "|         US|   20725301|R1YYR1SP2TS30L|B00UB9UJFQ|     548886188|TCL 32S3800 32-In...|Home Entertainment|          1|           55|         70|   N|                Y|Still waiting for...|Product defective...| 2015-08-30|\n",
            "|         US|   42601054|R2DYKW0X2B93QG|B00SMBG8QY|     751255029|VIZIO SB3821-C6 3...|Home Entertainment|          2|           50|         63|   N|                Y|Worth the money, ...|This is a cheap s...| 2015-08-30|\n",
            "|         US|   30687736|R14QWM0LJO6313|B00VDWJZ7I|      14931582|Intel Core i3 i3-...|Home Entertainment|          5|           24|         28|   N|                Y|Blew me away with...|This cpu was purc...| 2015-08-30|\n",
            "|         US|   13260189|R19H4AKN005KL8|B00SK6XXUK|     887568334|Streamsmart Smart...|Home Entertainment|          5|           19|         28|   N|                Y|       Great value!!|It is not THE bes...| 2015-08-30|\n",
            "|         US|   10930608|R27MJ6EZADWWPX|B00ZOGUF6E|     234534340|CiBest LED GM60 M...|Home Entertainment|          5|           34|         37|   N|                Y|          Impressed!|I just got it, bu...| 2015-08-30|\n",
            "|         US|   29648162| RXZ3Q8ZGMVQ40|B00SMBFPDG|     680331698|VIZIO 60\" Class (...|Home Entertainment|          1|           19|         30|   N|                Y|New tv worked les...|Received TV on da...| 2015-08-29|\n",
            "|         US|   12508067|R2GFDC3KTYASPJ|B00U9U8RZQ|     851149807|Samsung J5200 Ser...|Home Entertainment|          5|           94|        118|   N|                Y|Excellent TV - Po...|Amazing picture q...| 2015-08-29|\n",
            "|         US|    2336780|R288AJX5OK9K4Q|B00TRQPVKM|     516630089|LG Electronics LF...|Home Entertainment|          1|           46|         63|   N|                Y|   donot buy this tv|What is this man ...| 2015-08-29|\n",
            "|         US|   16010108|R25PC9R5T29WSK|B00SMBFQ7G|     579240906|VIZIO E-Series E5...|Home Entertainment|          5|           21|         23|   N|                Y|Completely satisfied|Packaged extremel...| 2015-08-29|\n",
            "+-----------+-----------+--------------+----------+--------------+--------------------+------------------+-----------+-------------+-----------+----+-----------------+--------------------+--------------------+-----------+\n",
            "only showing top 20 rows\n",
            "\n"
          ]
        }
      ]
    },
    {
      "cell_type": "code",
      "source": [
        "# Determine the total number of all reviews\n",
        "review_total = df.count()\n",
        "review_total"
      ],
      "metadata": {
        "colab": {
          "base_uri": "https://localhost:8080/"
        },
        "id": "OgQQUQlwbQQ8",
        "outputId": "e12f074c-8597-4610-a3ef-2f6f9a79cf74"
      },
      "execution_count": 19,
      "outputs": [
        {
          "output_type": "execute_result",
          "data": {
            "text/plain": [
              "705889"
            ]
          },
          "metadata": {},
          "execution_count": 19
        }
      ]
    },
    {
      "cell_type": "code",
      "source": [
        "# Determine the total number of all 5-star reviews\n",
        "total_fivestar = df.filter(df[\"star_rating\"] == 5).count()\n",
        "total_fivestar"
      ],
      "metadata": {
        "colab": {
          "base_uri": "https://localhost:8080/"
        },
        "id": "ai0WgEQsbTyX",
        "outputId": "853ed5ff-1d2f-4d36-a650-d857cf7d17a9"
      },
      "execution_count": 20,
      "outputs": [
        {
          "output_type": "execute_result",
          "data": {
            "text/plain": [
              "373988"
            ]
          },
          "metadata": {},
          "execution_count": 20
        }
      ]
    },
    {
      "cell_type": "code",
      "source": [
        "# Determine total number of paid reviews\n",
        "paid_total = vine_paid.count()\n",
        "paid_total"
      ],
      "metadata": {
        "colab": {
          "base_uri": "https://localhost:8080/"
        },
        "id": "HYD5yOFDX9dP",
        "outputId": "a8277e52-3260-46dd-f07f-132c3eba8b02"
      },
      "execution_count": 13,
      "outputs": [
        {
          "output_type": "execute_result",
          "data": {
            "text/plain": [
              "261"
            ]
          },
          "metadata": {},
          "execution_count": 13
        }
      ]
    },
    {
      "cell_type": "code",
      "source": [
        "# Determine total number of unpaid reviews\n",
        "unpaid_total = vine_not_paid.count()\n",
        "unpaid_total"
      ],
      "metadata": {
        "colab": {
          "base_uri": "https://localhost:8080/"
        },
        "id": "X2x7WZyoZ8yJ",
        "outputId": "633b4351-d148-4682-cac9-7c6e413dd0c1"
      },
      "execution_count": 14,
      "outputs": [
        {
          "output_type": "execute_result",
          "data": {
            "text/plain": [
              "24040"
            ]
          },
          "metadata": {},
          "execution_count": 14
        }
      ]
    },
    {
      "cell_type": "code",
      "source": [
        "# Determine total number of 5-star paid reviews\n",
        "fivestar_paid = vine_paid.filter(vine_paid[\"star_rating\"] == 5).count()\n",
        "fivestar_paid"
      ],
      "metadata": {
        "colab": {
          "base_uri": "https://localhost:8080/"
        },
        "id": "YsTAlg-bYBF3",
        "outputId": "66d4c3a3-9370-4a7a-c575-a96e03301cf8"
      },
      "execution_count": 15,
      "outputs": [
        {
          "output_type": "execute_result",
          "data": {
            "text/plain": [
              "106"
            ]
          },
          "metadata": {},
          "execution_count": 15
        }
      ]
    },
    {
      "cell_type": "code",
      "source": [
        "# Determine total number of 5-star unpaid reviews\n",
        "fivestar_unpaid = vine_not_paid.filter(vine_paid[\"star_rating\"] == 5).count()\n",
        "fivestar_unpaid"
      ],
      "metadata": {
        "colab": {
          "base_uri": "https://localhost:8080/"
        },
        "id": "me-DMDLwaXbD",
        "outputId": "77bff00c-8de8-4fa3-d818-db8a4188331a"
      },
      "execution_count": 16,
      "outputs": [
        {
          "output_type": "execute_result",
          "data": {
            "text/plain": [
              "10899"
            ]
          },
          "metadata": {},
          "execution_count": 16
        }
      ]
    },
    {
      "cell_type": "code",
      "source": [
        "# Determine percentage of 5-star paid reviews\n",
        "percentage_paid = (fivestar_paid / paid_total) * 100\n",
        "percentage_paid"
      ],
      "metadata": {
        "colab": {
          "base_uri": "https://localhost:8080/"
        },
        "id": "i4H01ieuYDvz",
        "outputId": "f6f9e53a-4f8d-4e53-8780-b06ac583991e"
      },
      "execution_count": 17,
      "outputs": [
        {
          "output_type": "execute_result",
          "data": {
            "text/plain": [
              "40.61302681992337"
            ]
          },
          "metadata": {},
          "execution_count": 17
        }
      ]
    },
    {
      "cell_type": "code",
      "source": [
        "# Determine percentage of 5-star unpaid reviews\n",
        "percentage_unpaid = (fivestar_unpaid / unpaid_total) * 100\n",
        "percentage_unpaid"
      ],
      "metadata": {
        "colab": {
          "base_uri": "https://localhost:8080/"
        },
        "id": "PgOeUoRja7k7",
        "outputId": "00a0afa4-010c-4541-ad0f-4c05360899ad"
      },
      "execution_count": 18,
      "outputs": [
        {
          "output_type": "execute_result",
          "data": {
            "text/plain": [
              "45.3369384359401"
            ]
          },
          "metadata": {},
          "execution_count": 18
        }
      ]
    }
  ]
}